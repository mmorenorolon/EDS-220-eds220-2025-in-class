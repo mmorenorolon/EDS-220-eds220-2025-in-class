{
 "cells": [
  {
   "cell_type": "code",
   "execution_count": 14,
   "id": "148f3301-de28-448c-a409-a6c1ad2425a0",
   "metadata": {
    "tags": []
   },
   "outputs": [],
   "source": [
    "import pandas as pd\n",
    "import numpy as np"
   ]
  },
  {
   "cell_type": "code",
   "execution_count": 15,
   "id": "afcc4a45-fd8b-420f-bbc3-6bba81a5c3e0",
   "metadata": {
    "tags": []
   },
   "outputs": [
    {
     "name": "stdout",
     "output_type": "stream",
     "text": [
      "<class 'numpy.ndarray'>\n",
      "[-0.88128131 -1.09233235 -1.23627197 -1.25552967] \n",
      "\n",
      "<class 'pandas.core.series.Series'>\n",
      "0   -0.881281\n",
      "1   -1.092332\n",
      "2   -1.236272\n",
      "3   -1.255530\n",
      "dtype: float64\n"
     ]
    }
   ],
   "source": [
    "# A numpy array\n",
    "arr = np.random.randn(4) # random values from std normal distribution\n",
    "print(type(arr)) #class: normal distribution array\n",
    "print(arr, \"\\n\")\n",
    "\n",
    "# A pandas series made from the previous array\n",
    "s = pd.Series(arr) \n",
    "print(type(s))#class: series\n",
    "print(s)"
   ]
  },
  {
   "cell_type": "markdown",
   "id": "d5d302c9-44d8-4cbc-aa47-906540897a96",
   "metadata": {},
   "source": [
    "### The basic method to create a pandas.Series is to call\n",
    "s = pd.Series(data, index=index)"
   ]
  },
  {
   "cell_type": "code",
   "execution_count": 16,
   "id": "70a7c1f6-8d90-46f2-ba72-9e8bed30f0db",
   "metadata": {
    "tags": []
   },
   "outputs": [
    {
     "data": {
      "text/plain": [
       "2023    0\n",
       "2024    1\n",
       "2025    2\n",
       "dtype: int64"
      ]
     },
     "execution_count": 16,
     "metadata": {},
     "output_type": "execute_result"
    }
   ],
   "source": [
    "# Creating a series from a numpy array \n",
    "pd.Series(np.arange(3), index=[2023, 2024, 2025])"
   ]
  },
  {
   "cell_type": "code",
   "execution_count": 17,
   "id": "cd134d51-2df5-451d-8b4a-b76c85942155",
   "metadata": {
    "tags": []
   },
   "outputs": [
    {
     "data": {
      "text/plain": [
       "0    EDS 220\n",
       "1    EDS 222\n",
       "2    EDS 223\n",
       "3    EDS 242\n",
       "dtype: object"
      ]
     },
     "execution_count": 17,
     "metadata": {},
     "output_type": "execute_result"
    }
   ],
   "source": [
    "#Creating a pandas series from a list\n",
    "\n",
    "# A series from a list of strings with default index\n",
    "pd.Series(['EDS 220', 'EDS 222', 'EDS 223', 'EDS 242'])"
   ]
  },
  {
   "cell_type": "code",
   "execution_count": 18,
   "id": "27d82d99-dee2-42d8-8ff0-3e7e94880fc0",
   "metadata": {
    "tags": []
   },
   "outputs": [
    {
     "data": {
      "text/plain": [
       "key_0    2\n",
       "key_1    3\n",
       "key_2    5\n",
       "dtype: object"
      ]
     },
     "execution_count": 18,
     "metadata": {},
     "output_type": "execute_result"
    }
   ],
   "source": [
    "# Creating a pandas series from a dictionary\n",
    "\n",
    "# Construct dictionary\n",
    "d = {'key_0':2, 'key_1':'3', 'key_2':5}\n",
    "\n",
    "# Initialize series using a dictionary\n",
    "pd.Series(d)"
   ]
  },
  {
   "cell_type": "code",
   "execution_count": 19,
   "id": "986d76f7-b464-4158-9a7f-f4cee4ea4325",
   "metadata": {
    "tags": []
   },
   "outputs": [
    {
     "data": {
      "text/plain": [
       "A    3.0\n",
       "B    3.0\n",
       "C    3.0\n",
       "dtype: float64"
      ]
     },
     "execution_count": 19,
     "metadata": {},
     "output_type": "execute_result"
    }
   ],
   "source": [
    "#Creating a pandas.Series from a single value \n",
    "\n",
    "pd.Series(3.0, index = ['A', 'B', 'C'])"
   ]
  },
  {
   "cell_type": "code",
   "execution_count": 20,
   "id": "5c29778c-0b71-4a11-aed2-f4eeeff744ff",
   "metadata": {
    "tags": []
   },
   "outputs": [
    {
     "name": "stdout",
     "output_type": "stream",
     "text": [
      "Andrea      9.8\n",
      "Beth        7.3\n",
      "Carolina    6.5\n",
      "dtype: float64 \n",
      "\n",
      "Andrea      3.637971e+42\n",
      "Beth        5.052394e+31\n",
      "Carolina    1.694889e+28\n",
      "dtype: float64 \n",
      "\n",
      "Andrea      98\n",
      "Beth        73\n",
      "Carolina    65\n",
      "dtype: int64\n"
     ]
    }
   ],
   "source": [
    "# Define a series\n",
    "s = pd.Series([98,73,65],index=['Andrea', 'Beth', 'Carolina'])\n",
    "\n",
    "# Divide each element in series by 10\n",
    "print(s /10, '\\n')\n",
    "\n",
    "# Take the exponential of each element in series\n",
    "print(np.exp(s), '\\n')\n",
    "\n",
    "# Original series is unchanged\n",
    "print(s)"
   ]
  },
  {
   "cell_type": "code",
   "execution_count": 21,
   "id": "662620d8-5c37-47a3-a316-ef2c7a9cbc7b",
   "metadata": {
    "tags": []
   },
   "outputs": [
    {
     "data": {
      "text/plain": [
       "Andrea       True\n",
       "Beth         True\n",
       "Carolina    False\n",
       "dtype: bool"
      ]
     },
     "execution_count": 21,
     "metadata": {},
     "output_type": "execute_result"
    }
   ],
   "source": [
    "# Produce a new pandas.Series with True/False values indicating whether the elements in a series satisfy a condition or not:\n",
    "\n",
    "s > 70"
   ]
  },
  {
   "cell_type": "code",
   "execution_count": 22,
   "id": "db697755-d7ff-4143-a536-8eb305ed7630",
   "metadata": {
    "tags": []
   },
   "outputs": [
    {
     "data": {
      "text/plain": [
       "0    1.0\n",
       "1    2.0\n",
       "2    NaN\n",
       "3    4.0\n",
       "4    NaN\n",
       "dtype: float64"
      ]
     },
     "execution_count": 22,
     "metadata": {},
     "output_type": "execute_result"
    }
   ],
   "source": [
    "# Construct a series with NAs in it\n",
    "\n",
    "s = pd.Series([1, 2, np.nan, 4, np.nan])\n",
    "s"
   ]
  },
  {
   "cell_type": "code",
   "execution_count": 23,
   "id": "fddb177f-7d3a-40f9-a945-f3ac7a2bdcf2",
   "metadata": {
    "tags": []
   },
   "outputs": [
    {
     "data": {
      "text/plain": [
       "True"
      ]
     },
     "execution_count": 23,
     "metadata": {},
     "output_type": "execute_result"
    }
   ],
   "source": [
    "# Check if series has NAs\n",
    "\n",
    "s.hasnans"
   ]
  },
  {
   "cell_type": "code",
   "execution_count": 24,
   "id": "08c6ba7d-b3e6-4e14-b61a-0061857dab1e",
   "metadata": {
    "tags": []
   },
   "outputs": [
    {
     "data": {
      "text/plain": [
       "0    False\n",
       "1    False\n",
       "2     True\n",
       "3    False\n",
       "4     True\n",
       "dtype: bool"
      ]
     },
     "execution_count": 24,
     "metadata": {},
     "output_type": "execute_result"
    }
   ],
   "source": [
    "#Detect which elements in the series are NAs\n",
    "\n",
    "s.isna()"
   ]
  },
  {
   "cell_type": "markdown",
   "id": "07ade35c-3068-42b4-ad6a-57b43383773b",
   "metadata": {},
   "source": [
    "## Check in 1"
   ]
  },
  {
   "cell_type": "code",
   "execution_count": 25,
   "id": "74ddacbb-14c0-4c1f-af8e-050642d55f6c",
   "metadata": {
    "tags": []
   },
   "outputs": [
    {
     "name": "stdout",
     "output_type": "stream",
     "text": [
      "A      0.25\n",
      "B   -999.00\n",
      "C      0.75\n",
      "D   -999.00\n",
      "dtype: float64\n"
     ]
    }
   ],
   "source": [
    "# Create and print a series with lettered index and NA values represented as '999'\n",
    "myseries = pd.Series([0.25, -999, 0.75, -999], index = ['A','B','C','D'])\n",
    "print(myseries) \n",
    "\n",
    "myseries = myseries.mask(myseries == -999)"
   ]
  },
  {
   "cell_type": "markdown",
   "id": "9d01ef94-0559-4190-8843-fe0bc5974460",
   "metadata": {},
   "source": [
    "# Creating a pandas dataframe"
   ]
  },
  {
   "cell_type": "code",
   "execution_count": 26,
   "id": "2b45d2df-f225-4cba-a892-b0fceace4a73",
   "metadata": {
    "tags": []
   },
   "outputs": [
    {
     "data": {
      "text/html": [
       "<div>\n",
       "<style scoped>\n",
       "    .dataframe tbody tr th:only-of-type {\n",
       "        vertical-align: middle;\n",
       "    }\n",
       "\n",
       "    .dataframe tbody tr th {\n",
       "        vertical-align: top;\n",
       "    }\n",
       "\n",
       "    .dataframe thead th {\n",
       "        text-align: right;\n",
       "    }\n",
       "</style>\n",
       "<table border=\"1\" class=\"dataframe\">\n",
       "  <thead>\n",
       "    <tr style=\"text-align: right;\">\n",
       "      <th></th>\n",
       "      <th>col_name_1</th>\n",
       "      <th>col_name_2</th>\n",
       "    </tr>\n",
       "  </thead>\n",
       "  <tbody>\n",
       "    <tr>\n",
       "      <th>0</th>\n",
       "      <td>0</td>\n",
       "      <td>3.1</td>\n",
       "    </tr>\n",
       "    <tr>\n",
       "      <th>1</th>\n",
       "      <td>1</td>\n",
       "      <td>3.2</td>\n",
       "    </tr>\n",
       "    <tr>\n",
       "      <th>2</th>\n",
       "      <td>2</td>\n",
       "      <td>3.3</td>\n",
       "    </tr>\n",
       "  </tbody>\n",
       "</table>\n",
       "</div>"
      ],
      "text/plain": [
       "   col_name_1  col_name_2\n",
       "0           0         3.1\n",
       "1           1         3.2\n",
       "2           2         3.3"
      ]
     },
     "execution_count": 26,
     "metadata": {},
     "output_type": "execute_result"
    }
   ],
   "source": [
    "# Initialize dictionary with columns' data \n",
    "d = {'col_name_1' : pd.Series(np.arange(3)),\n",
    "     'col_name_2' : pd.Series([3.1, 3.2, 3.3]),\n",
    "     }\n",
    "\n",
    "# Create data frame\n",
    "df = pd.DataFrame(d)\n",
    "df"
   ]
  },
  {
   "cell_type": "code",
   "execution_count": 27,
   "id": "ae5be070-8dca-457c-ab07-56fb7d4b0512",
   "metadata": {
    "tags": []
   },
   "outputs": [
    {
     "data": {
      "text/html": [
       "<div>\n",
       "<style scoped>\n",
       "    .dataframe tbody tr th:only-of-type {\n",
       "        vertical-align: middle;\n",
       "    }\n",
       "\n",
       "    .dataframe tbody tr th {\n",
       "        vertical-align: top;\n",
       "    }\n",
       "\n",
       "    .dataframe thead th {\n",
       "        text-align: right;\n",
       "    }\n",
       "</style>\n",
       "<table border=\"1\" class=\"dataframe\">\n",
       "  <thead>\n",
       "    <tr style=\"text-align: right;\">\n",
       "      <th></th>\n",
       "      <th>col_name_1</th>\n",
       "      <th>col_name_2</th>\n",
       "    </tr>\n",
       "  </thead>\n",
       "  <tbody>\n",
       "    <tr>\n",
       "      <th>a</th>\n",
       "      <td>0</td>\n",
       "      <td>3.1</td>\n",
       "    </tr>\n",
       "    <tr>\n",
       "      <th>b</th>\n",
       "      <td>1</td>\n",
       "      <td>3.2</td>\n",
       "    </tr>\n",
       "    <tr>\n",
       "      <th>c</th>\n",
       "      <td>2</td>\n",
       "      <td>3.3</td>\n",
       "    </tr>\n",
       "  </tbody>\n",
       "</table>\n",
       "</div>"
      ],
      "text/plain": [
       "   col_name_1  col_name_2\n",
       "a           0         3.1\n",
       "b           1         3.2\n",
       "c           2         3.3"
      ]
     },
     "execution_count": 27,
     "metadata": {},
     "output_type": "execute_result"
    }
   ],
   "source": [
    "# Change index attribute in the dataframe\n",
    "df.index = ['a','b','c']\n",
    "df"
   ]
  },
  {
   "cell_type": "markdown",
   "id": "a269f7d3-f4c0-4f2b-a4b2-a877506bf45f",
   "metadata": {},
   "source": [
    "# Check in 2"
   ]
  },
  {
   "cell_type": "code",
   "execution_count": 28,
   "id": "5f2e60a1-46e0-4989-9676-4d5f6cf4978b",
   "metadata": {
    "tags": []
   },
   "outputs": [
    {
     "name": "stdout",
     "output_type": "stream",
     "text": [
      "Index(['col_name_1', 'col_name_2'], dtype='object')\n",
      "   C1   C2\n",
      "a   0  3.1\n",
      "b   1  3.2\n",
      "c   2  3.3\n"
     ]
    }
   ],
   "source": [
    "print(df.columns) #see column names\n",
    "\n",
    "renamed_df = df.rename(columns = {'col_name_1': 'C1', 'col_name_2': 'C2'})\n",
    "print(renamed_df)"
   ]
  },
  {
   "cell_type": "markdown",
   "id": "33cbdfee-f34c-48ef-a57f-da1a0caef22c",
   "metadata": {
    "tags": []
   },
   "source": [
    "### Summary:\n",
    "\n",
    "- A pandas Series is an indexed one-dimensional array presented as a list while a pandas Dataframe is a dictionary of a pd.Series presented as tabular data (spreadsheet). \n",
    "- Series\n",
    "    - We can initialze a pandas series with standard indeces or assigning a list of values/characters as the index. \n",
    "    - We can also initialize a pandas series from a dictionary where the keys are the indeces and the values are the data (either characters or float values).\n",
    "    - We can perform arithmetic operations on a Series without affecting the original Series.\n",
    "    - We can create a pandas series by introducing Boolean operations to check if the values fulfill a specified condition.\n",
    "    - We can check if a Series has NA values (s.hasnas) and see which elements specifically have NAs (s.isna()).\n",
    "- Dataframe\n",
    "    - We can create a dataframe from a dictionary. \n",
    "    - We can change the index attribute of the dataframe. \n",
    "    - We can rename the columns through the columns attribute by writing them as a dictionary.  "
   ]
  },
  {
   "cell_type": "code",
   "execution_count": null,
   "id": "254d126f-1f03-46dc-a706-cb701852311f",
   "metadata": {},
   "outputs": [],
   "source": []
  }
 ],
 "metadata": {
  "kernelspec": {
   "display_name": "EDS220",
   "language": "python",
   "name": "eds220-env"
  },
  "language_info": {
   "codemirror_mode": {
    "name": "ipython",
    "version": 3
   },
   "file_extension": ".py",
   "mimetype": "text/x-python",
   "name": "python",
   "nbconvert_exporter": "python",
   "pygments_lexer": "ipython3",
   "version": "3.11.4"
  }
 },
 "nbformat": 4,
 "nbformat_minor": 5
}
