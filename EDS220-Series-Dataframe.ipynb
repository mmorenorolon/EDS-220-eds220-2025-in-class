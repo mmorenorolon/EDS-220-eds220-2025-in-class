{
 "cells": [
  {
   "cell_type": "code",
   "execution_count": null,
   "id": "148f3301-de28-448c-a409-a6c1ad2425a0",
   "metadata": {},
   "outputs": [],
   "source": [
    "import pandas as pd\n",
    "import numpy as np"
   ]
  },
  {
   "cell_type": "code",
   "execution_count": null,
   "id": "afcc4a45-fd8b-420f-bbc3-6bba81a5c3e0",
   "metadata": {},
   "outputs": [],
   "source": [
    "# A numpy array\n",
    "arr = np.random.randn(4) # random values from std normal distribution\n",
    "print(type(arr)) #class: normal distribution array\n",
    "print(arr, \"\\n\")\n",
    "\n",
    "# A pandas series made from the previous array\n",
    "s = pd.Series(arr) \n",
    "print(type(s))#class: series\n",
    "print(s)"
   ]
  },
  {
   "cell_type": "markdown",
   "id": "d5d302c9-44d8-4cbc-aa47-906540897a96",
   "metadata": {},
   "source": [
    "### The basic method to create a pandas.Series is to call\n",
    "s = pd.Series(data, index=index)"
   ]
  },
  {
   "cell_type": "code",
   "execution_count": null,
   "id": "70a7c1f6-8d90-46f2-ba72-9e8bed30f0db",
   "metadata": {},
   "outputs": [],
   "source": [
    "# Creating a series from a numpy array \n",
    "pd.Series(np.arange(3), index=[2023, 2024, 2025])"
   ]
  },
  {
   "cell_type": "code",
   "execution_count": null,
   "id": "cd134d51-2df5-451d-8b4a-b76c85942155",
   "metadata": {},
   "outputs": [],
   "source": [
    "#Creating a pandas series from a list\n",
    "\n",
    "# A series from a list of strings with default index\n",
    "pd.Series(['EDS 220', 'EDS 222', 'EDS 223', 'EDS 242'])"
   ]
  },
  {
   "cell_type": "code",
   "execution_count": null,
   "id": "27d82d99-dee2-42d8-8ff0-3e7e94880fc0",
   "metadata": {},
   "outputs": [],
   "source": [
    "# Creating a pandas series from a dictionary\n",
    "\n",
    "# Construct dictionary\n",
    "d = {'key_0':2, 'key_1':'3', 'key_2':5}\n",
    "\n",
    "# Initialize series using a dictionary\n",
    "pd.Series(d)"
   ]
  },
  {
   "cell_type": "code",
   "execution_count": null,
   "id": "986d76f7-b464-4158-9a7f-f4cee4ea4325",
   "metadata": {},
   "outputs": [],
   "source": [
    "#Creating a pandas.Series from a single value \n",
    "\n",
    "pd.Series(3.0, index = ['A', 'B', 'C'])"
   ]
  },
  {
   "cell_type": "code",
   "execution_count": null,
   "id": "5c29778c-0b71-4a11-aed2-f4eeeff744ff",
   "metadata": {},
   "outputs": [],
   "source": [
    "# Define a series\n",
    "s = pd.Series([98,73,65],index=['Andrea', 'Beth', 'Carolina'])\n",
    "\n",
    "# Divide each element in series by 10\n",
    "print(s /10, '\\n')\n",
    "\n",
    "# Take the exponential of each element in series\n",
    "print(np.exp(s), '\\n')\n",
    "\n",
    "# Original series is unchanged\n",
    "print(s)"
   ]
  },
  {
   "cell_type": "code",
   "execution_count": null,
   "id": "662620d8-5c37-47a3-a316-ef2c7a9cbc7b",
   "metadata": {},
   "outputs": [],
   "source": [
    "# Produce a new pandas.Series with True/False values indicating whether the elements in a series satisfy a condition or not:\n",
    "\n",
    "s > 70"
   ]
  },
  {
   "cell_type": "code",
   "execution_count": null,
   "id": "db697755-d7ff-4143-a536-8eb305ed7630",
   "metadata": {},
   "outputs": [],
   "source": [
    "# Construct a series with NAs in it\n",
    "\n",
    "s = pd.Series([1, 2, np.nan, 4, np.nan])\n",
    "s"
   ]
  },
  {
   "cell_type": "code",
   "execution_count": null,
   "id": "fddb177f-7d3a-40f9-a945-f3ac7a2bdcf2",
   "metadata": {},
   "outputs": [],
   "source": [
    "# Check if series has NAs\n",
    "\n",
    "s.hasnans"
   ]
  },
  {
   "cell_type": "code",
   "execution_count": null,
   "id": "08c6ba7d-b3e6-4e14-b61a-0061857dab1e",
   "metadata": {},
   "outputs": [],
   "source": [
    "#Detect which elements in the series are NAs\n",
    "\n",
    "s.isna()"
   ]
  },
  {
   "cell_type": "markdown",
   "id": "07ade35c-3068-42b4-ad6a-57b43383773b",
   "metadata": {},
   "source": [
    "## Check in 1"
   ]
  },
  {
   "cell_type": "code",
   "execution_count": null,
   "id": "74ddacbb-14c0-4c1f-af8e-050642d55f6c",
   "metadata": {},
   "outputs": [],
   "source": [
    "myseries = pd.Series([0.25, -999, 0.75, -999], index = ['A','B','C','D'])\n",
    "print(s)\n",
    "\n",
    "myseries.mask(s == -999)"
   ]
  },
  {
   "cell_type": "markdown",
   "id": "9d01ef94-0559-4190-8843-fe0bc5974460",
   "metadata": {},
   "source": [
    "# Creating a pandas dataframe"
   ]
  },
  {
   "cell_type": "code",
   "execution_count": null,
   "id": "2b45d2df-f225-4cba-a892-b0fceace4a73",
   "metadata": {},
   "outputs": [],
   "source": [
    "# Initialize dictionary with columns' data \n",
    "d = {'col_name_1' : pd.Series(np.arange(3)),\n",
    "     'col_name_2' : pd.Series([3.1, 3.2, 3.3]),\n",
    "     }\n",
    "\n",
    "# Create data frame\n",
    "df = pd.DataFrame(d)\n",
    "df"
   ]
  },
  {
   "cell_type": "code",
   "execution_count": null,
   "id": "ae5be070-8dca-457c-ab07-56fb7d4b0512",
   "metadata": {},
   "outputs": [],
   "source": [
    "# Change index attribute in the dataframe\n",
    "df.index = ['a','b','c']\n",
    "df"
   ]
  },
  {
   "cell_type": "markdown",
   "id": "a269f7d3-f4c0-4f2b-a4b2-a877506bf45f",
   "metadata": {},
   "source": [
    "# Check in 2"
   ]
  },
  {
   "cell_type": "code",
   "execution_count": null,
   "id": "5f2e60a1-46e0-4989-9676-4d5f6cf4978b",
   "metadata": {},
   "outputs": [],
   "source": []
  }
 ],
 "metadata": {
  "kernelspec": {
   "display_name": "EDS220",
   "language": "python",
   "name": "eds220-env"
  },
  "language_info": {
   "codemirror_mode": {
    "name": "ipython",
    "version": 3
   },
   "file_extension": ".py",
   "mimetype": "text/x-python",
   "name": "python",
   "nbconvert_exporter": "python",
   "pygments_lexer": "ipython3",
   "version": "3.11.4"
  }
 },
 "nbformat": 4,
 "nbformat_minor": 5
}
