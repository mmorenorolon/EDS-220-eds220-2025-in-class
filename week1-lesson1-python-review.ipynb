{
 "cells": [
  {
   "cell_type": "markdown",
   "id": "ded70380-3381-48d2-bfa8-d2a427c7af43",
   "metadata": {},
   "source": [
    "# Python review\n",
    "\n",
    "Goals:\n",
    "- recall basic Python vocabulary \n",
    "- practice markdown\n",
    "\n",
    "## Libraries and packages\n",
    "\n",
    "**library**: a collection of code that we can use to perform specific tasks in our programs. \n",
    "\n",
    "**NumPy**: \n",
    "- core library for numerical computing in Python\n",
    "- many other libraries use NumPy arraysas building blocks\n",
    "- computations on Numpy are optimized for speed and memory usage"
   ]
  },
  {
   "cell_type": "code",
   "execution_count": 3,
   "id": "b64c0c1c-6d75-46ff-af01-36079d3762a4",
   "metadata": {
    "tags": []
   },
   "outputs": [],
   "source": [
    "import numpy as np  "
   ]
  },
  {
   "cell_type": "markdown",
   "id": "24e81053-e216-411c-ae35-6a8fe4191434",
   "metadata": {},
   "source": [
    "## Variables \n",
    "\n",
    "**variable**: name assigned to a particular object in Python"
   ]
  },
  {
   "cell_type": "code",
   "execution_count": 4,
   "id": "84fc0e04-592e-4a2c-a79f-71aedea5e858",
   "metadata": {
    "tags": []
   },
   "outputs": [],
   "source": [
    "# Assign a small array to variable a\n",
    "a = np.array( [ [1,1,2],[3,5,8] ] )"
   ]
  },
  {
   "cell_type": "code",
   "execution_count": 5,
   "id": "f8564779-3447-4be1-8d79-36cf730e955a",
   "metadata": {},
   "outputs": [
    {
     "data": {
      "text/plain": [
       "array([[1, 1, 2],\n",
       "       [3, 5, 8]])"
      ]
     },
     "execution_count": 5,
     "metadata": {},
     "output_type": "execute_result"
    }
   ],
   "source": [
    "# Run cell with the variable to show value\n",
    "a"
   ]
  },
  {
   "cell_type": "code",
   "execution_count": 6,
   "id": "875b3929-fa2e-45fb-98a3-ba1462684685",
   "metadata": {
    "tags": []
   },
   "outputs": [
    {
     "name": "stdout",
     "output_type": "stream",
     "text": [
      "[[1 1 2]\n",
      " [3 5 8]]\n"
     ]
    }
   ],
   "source": [
    "# Use 'print' to show the value\n",
    "print(a)"
   ]
  },
  {
   "cell_type": "markdown",
   "id": "3a042d8d-9205-42f2-93c6-e2ce78ae6355",
   "metadata": {
    "tags": []
   },
   "source": [
    "## Objects\n",
    "\n",
    "**object**: bubdle of *properties* and *actions* about something specific. \n",
    "\n",
    "Example: \n",
    "    Object: data frame\n",
    "    Properties: number of rows, names of columns, date created\n",
    "    Actions: selecting a specific row, adding a new column\n",
    "\n",
    "A variable is the name we give a specific object, and the same object can be referenced by different variables.\n",
    "In practice, we can often  variable  and object interchangeably.\n",
    "\n",
    "## Types\n",
    "\n",
    "Every object in Python has a **type**. The type tell us what kind of object it is.\n",
    "We can also call the type of an object, the class of an object and they mean what kind of object we have."
   ]
  },
  {
   "cell_type": "code",
   "execution_count": 7,
   "id": "0620f47d-3d0f-4a5b-9750-b99422a25f5d",
   "metadata": {
    "tags": []
   },
   "outputs": [
    {
     "name": "stdout",
     "output_type": "stream",
     "text": [
      "[[1 1 2]\n",
      " [3 5 8]]\n"
     ]
    },
    {
     "data": {
      "text/plain": [
       "numpy.ndarray"
      ]
     },
     "execution_count": 7,
     "metadata": {},
     "output_type": "execute_result"
    }
   ],
   "source": [
    "print(a)\n",
    "\n",
    "#Check the type/classof a variable/object by using the 'type' function\n",
    "type(a)"
   ]
  },
  {
   "cell_type": "code",
   "execution_count": 9,
   "id": "2a2c51d0-6847-4186-aded-35380e9295a4",
   "metadata": {
    "tags": []
   },
   "outputs": [
    {
     "name": "stdout",
     "output_type": "stream",
     "text": [
      "1\n"
     ]
    },
    {
     "data": {
      "text/plain": [
       "numpy.int64"
      ]
     },
     "execution_count": 9,
     "metadata": {},
     "output_type": "execute_result"
    }
   ],
   "source": [
    "print(a[0,0])\n",
    "\n",
    "#type on an enrty of the array by indexing \n",
    "type(a[0,0])"
   ]
  },
  {
   "cell_type": "markdown",
   "id": "27d2d8b5-b34c-4bc5-82e6-65793ab0c579",
   "metadata": {},
   "source": [
    "Notice that `type(a[0,0])` is `numpy.int64` and not the standard integer type. This is telling us that 1 is an integer stored as a 64-bit number."
   ]
  },
  {
   "cell_type": "code",
   "execution_count": 10,
   "id": "183a72c5-a629-4e17-bf2b-9cf9485a6e18",
   "metadata": {
    "tags": []
   },
   "outputs": [
    {
     "data": {
      "text/plain": [
       "5"
      ]
     },
     "execution_count": 10,
     "metadata": {},
     "output_type": "execute_result"
    }
   ],
   "source": [
    "a[1,1]"
   ]
  },
  {
   "cell_type": "markdown",
   "id": "00a1e7b9-a8b0-4caa-a557-25c7c86ea8a1",
   "metadata": {},
   "source": [
    "Functions take in a set of **arguments** and they creat an output.\n",
    "\n",
    "argument = parameter.\n",
    "\n",
    "We can ask information about a function by writing `?function`"
   ]
  },
  {
   "cell_type": "code",
   "execution_count": 11,
   "id": "24d40ba9-2fe5-4eca-90c8-b20027f62250",
   "metadata": {
    "tags": []
   },
   "outputs": [
    {
     "data": {
      "text/plain": [
       "\u001b[0;31mSignature:\u001b[0m \u001b[0mprint\u001b[0m\u001b[0;34m(\u001b[0m\u001b[0;34m*\u001b[0m\u001b[0margs\u001b[0m\u001b[0;34m,\u001b[0m \u001b[0msep\u001b[0m\u001b[0;34m=\u001b[0m\u001b[0;34m' '\u001b[0m\u001b[0;34m,\u001b[0m \u001b[0mend\u001b[0m\u001b[0;34m=\u001b[0m\u001b[0;34m'\\n'\u001b[0m\u001b[0;34m,\u001b[0m \u001b[0mfile\u001b[0m\u001b[0;34m=\u001b[0m\u001b[0;32mNone\u001b[0m\u001b[0;34m,\u001b[0m \u001b[0mflush\u001b[0m\u001b[0;34m=\u001b[0m\u001b[0;32mFalse\u001b[0m\u001b[0;34m)\u001b[0m\u001b[0;34m\u001b[0m\u001b[0;34m\u001b[0m\u001b[0m\n",
       "\u001b[0;31mDocstring:\u001b[0m\n",
       "Prints the values to a stream, or to sys.stdout by default.\n",
       "\n",
       "sep\n",
       "  string inserted between values, default a space.\n",
       "end\n",
       "  string appended after the last value, default a newline.\n",
       "file\n",
       "  a file-like object (stream); defaults to the current sys.stdout.\n",
       "flush\n",
       "  whether to forcibly flush the stream.\n",
       "\u001b[0;31mType:\u001b[0m      builtin_function_or_method"
      ]
     },
     "metadata": {},
     "output_type": "display_data"
    }
   ],
   "source": [
    "?print"
   ]
  },
  {
   "cell_type": "markdown",
   "id": "dd9c8988-9480-4cc1-bad4-a069c023d828",
   "metadata": {
    "tags": []
   },
   "source": [
    "This information is a **docstring**.\n",
    "\n",
    "A function has two types of arguments:\n",
    "\n",
    "- **non-optional argument**: arguments you *need* to specify for the function to work.\n",
    "- **optional arguments**: arguments are pre-filled with a default value. You can override them. Optional arguments appear inside the parenthesis in the form `optional_argument=default_value`"
   ]
  },
  {
   "cell_type": "code",
   "execution_count": 13,
   "id": "7aa32685-4f6f-4d79-912c-3e7307ee08f1",
   "metadata": {
    "tags": []
   },
   "outputs": [
    {
     "name": "stdout",
     "output_type": "stream",
     "text": [
      "changing the default end argument :)"
     ]
    }
   ],
   "source": [
    "print('changing the default end argument', end = ' :)')"
   ]
  },
  {
   "cell_type": "markdown",
   "id": "c8795b01-3da2-4dd3-897c-56c0826eb8f3",
   "metadata": {},
   "source": [
    "## Attributes and Methods\n",
    "\n",
    "An object in Python has attributes and methods. \n",
    "\n",
    "- **attribute**: don't have parentheses\n",
    "- **method**: have aparentheses\n",
    "\n",
    "### Fish attributes:\n",
    "- length\n",
    "- color\n",
    "- species\n",
    "\n",
    "### Fish methods:\n",
    "- die(), bite(), swim()\n",
    "\n",
    "**Example** \n",
    "Attributes for `numpy.arrays`\n",
    "\n",
    "We can access a variables attributes and methods by adding a period at the end of the variable's name.\n",
    "`variable.method()`, `variable.attrbiute`"
   ]
  },
  {
   "cell_type": "code",
   "execution_count": 14,
   "id": "9e704ae1-7b11-4987-a134-312e02886ebf",
   "metadata": {
    "tags": []
   },
   "outputs": [
    {
     "data": {
      "text/plain": [
       "(2, 3)"
      ]
     },
     "execution_count": 14,
     "metadata": {},
     "output_type": "execute_result"
    }
   ],
   "source": [
    "a.shape"
   ]
  },
  {
   "cell_type": "code",
   "execution_count": 15,
   "id": "881542e2-fad1-4928-b115-31fca1285fd3",
   "metadata": {
    "tags": []
   },
   "outputs": [
    {
     "data": {
      "text/plain": [
       "tuple"
      ]
     },
     "execution_count": 15,
     "metadata": {},
     "output_type": "execute_result"
    }
   ],
   "source": [
    "type(a.shape)"
   ]
  },
  {
   "cell_type": "code",
   "execution_count": 16,
   "id": "e8f32317-e0c9-4bf4-b68b-9ece1f74247f",
   "metadata": {
    "tags": []
   },
   "outputs": [
    {
     "data": {
      "text/plain": [
       "array([1, 1, 2])"
      ]
     },
     "execution_count": 16,
     "metadata": {},
     "output_type": "execute_result"
    }
   ],
   "source": [
    "# Method examples\n",
    "#min returns the minimum value along a specified axis.\n",
    "a.min(axis=0)"
   ]
  },
  {
   "cell_type": "markdown",
   "id": "a75e9e8f-eb86-4723-adf7-e46d2df02fd5",
   "metadata": {},
   "source": [
    "## Check-in \n",
    "We can also call the min method without any parameters"
   ]
  },
  {
   "cell_type": "code",
   "execution_count": 17,
   "id": "2509a1e0-8049-4b06-9d64-ccec9f3f265e",
   "metadata": {
    "tags": []
   },
   "outputs": [
    {
     "data": {
      "text/plain": [
       "1"
      ]
     },
     "execution_count": 17,
     "metadata": {},
     "output_type": "execute_result"
    }
   ],
   "source": [
    "a.min() #The optional argument is "
   ]
  },
  {
   "cell_type": "markdown",
   "id": "bee3144e-3f45-40b9-8594-10a10253498b",
   "metadata": {},
   "source": [
    "Remember: methods are functions associated with an object. "
   ]
  },
  {
   "cell_type": "code",
   "execution_count": 18,
   "id": "299f8b13-c14e-44e0-8378-75d0b1d49a36",
   "metadata": {
    "tags": []
   },
   "outputs": [
    {
     "data": {
      "text/plain": [
       "builtin_function_or_method"
      ]
     },
     "execution_count": 18,
     "metadata": {},
     "output_type": "execute_result"
    }
   ],
   "source": [
    "type(a.min)"
   ]
  },
  {
   "cell_type": "markdown",
   "id": "927be960-7b12-4ed3-be87-91f17ee0fdb4",
   "metadata": {},
   "source": [
    "## Exercise\n",
    "\n",
    "1. Read the `print` function help. What is the type of argument `sep`? Optional/Non-optional? Why?\n",
    "2. Create two new variables, one with the integer value 77 and another with string 99. \n",
    "3. Use your variables to print `77%99%77` by changing the value of one of the optional arguments in `print`. "
   ]
  },
  {
   "cell_type": "code",
   "execution_count": 19,
   "id": "6cf02b6c-7fda-45af-b19a-bc64159e825e",
   "metadata": {
    "tags": []
   },
   "outputs": [
    {
     "data": {
      "text/plain": [
       "\u001b[0;31mSignature:\u001b[0m \u001b[0mprint\u001b[0m\u001b[0;34m(\u001b[0m\u001b[0;34m*\u001b[0m\u001b[0margs\u001b[0m\u001b[0;34m,\u001b[0m \u001b[0msep\u001b[0m\u001b[0;34m=\u001b[0m\u001b[0;34m' '\u001b[0m\u001b[0;34m,\u001b[0m \u001b[0mend\u001b[0m\u001b[0;34m=\u001b[0m\u001b[0;34m'\\n'\u001b[0m\u001b[0;34m,\u001b[0m \u001b[0mfile\u001b[0m\u001b[0;34m=\u001b[0m\u001b[0;32mNone\u001b[0m\u001b[0;34m,\u001b[0m \u001b[0mflush\u001b[0m\u001b[0;34m=\u001b[0m\u001b[0;32mFalse\u001b[0m\u001b[0;34m)\u001b[0m\u001b[0;34m\u001b[0m\u001b[0;34m\u001b[0m\u001b[0m\n",
       "\u001b[0;31mDocstring:\u001b[0m\n",
       "Prints the values to a stream, or to sys.stdout by default.\n",
       "\n",
       "sep\n",
       "  string inserted between values, default a space.\n",
       "end\n",
       "  string appended after the last value, default a newline.\n",
       "file\n",
       "  a file-like object (stream); defaults to the current sys.stdout.\n",
       "flush\n",
       "  whether to forcibly flush the stream.\n",
       "\u001b[0;31mType:\u001b[0m      builtin_function_or_method"
      ]
     },
     "metadata": {},
     "output_type": "display_data"
    }
   ],
   "source": [
    "?print"
   ]
  },
  {
   "cell_type": "markdown",
   "id": "2791da3c-2767-4732-8d87-60573bf61533",
   "metadata": {},
   "source": [
    "The `sep` argument is of type string and is optional. It's default is to add a space between values. "
   ]
  },
  {
   "cell_type": "code",
   "execution_count": 20,
   "id": "e4917fea-7197-44c1-b9be-60b29d6f8d09",
   "metadata": {
    "tags": []
   },
   "outputs": [],
   "source": [
    "num1 = 77"
   ]
  },
  {
   "cell_type": "code",
   "execution_count": 22,
   "id": "34b9e6c6-1af2-477c-ae52-696e47628137",
   "metadata": {
    "tags": []
   },
   "outputs": [],
   "source": [
    "num2 = '99'"
   ]
  },
  {
   "cell_type": "code",
   "execution_count": 24,
   "id": "6a79daa1-d634-45c7-8134-ace70817b600",
   "metadata": {
    "tags": []
   },
   "outputs": [
    {
     "name": "stdout",
     "output_type": "stream",
     "text": [
      "77%99%77\n"
     ]
    }
   ],
   "source": [
    "print(num1,num2,num1, sep = '%')"
   ]
  },
  {
   "cell_type": "code",
   "execution_count": null,
   "id": "0f1873e8-7764-46af-8ccc-78d653393899",
   "metadata": {},
   "outputs": [],
   "source": []
  }
 ],
 "metadata": {
  "kernelspec": {
   "display_name": "EDS220",
   "language": "python",
   "name": "eds220-env"
  },
  "language_info": {
   "codemirror_mode": {
    "name": "ipython",
    "version": 3
   },
   "file_extension": ".py",
   "mimetype": "text/x-python",
   "name": "python",
   "nbconvert_exporter": "python",
   "pygments_lexer": "ipython3",
   "version": "3.11.4"
  }
 },
 "nbformat": 4,
 "nbformat_minor": 5
}
