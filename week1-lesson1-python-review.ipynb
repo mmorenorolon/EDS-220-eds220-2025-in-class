{
 "cells": [
  {
   "cell_type": "markdown",
   "id": "ded70380-3381-48d2-bfa8-d2a427c7af43",
   "metadata": {},
   "source": [
    "# Python review\n",
    "\n",
    "Goals:\n",
    "- recall basic Python vocabulary \n",
    "- practice markdown\n",
    "\n",
    "## Libraries and packages\n",
    "\n",
    "**library**: a collection of code that we can use to perform specific tasks in our programs. \n",
    "\n",
    "**NumPy**: \n",
    "- core library for numerical computing in Python\n",
    "- many other libraries use NumPy arraysas building blocks\n",
    "- computations on Numpy are optimized for speed and memory usage"
   ]
  },
  {
   "cell_type": "code",
   "execution_count": 2,
   "id": "b64c0c1c-6d75-46ff-af01-36079d3762a4",
   "metadata": {
    "tags": []
   },
   "outputs": [],
   "source": [
    "import numpy as np  "
   ]
  },
  {
   "cell_type": "markdown",
   "id": "24e81053-e216-411c-ae35-6a8fe4191434",
   "metadata": {},
   "source": [
    "## Variables \n",
    "\n",
    "**variable**: name assigned to a particular object in Python"
   ]
  },
  {
   "cell_type": "code",
   "execution_count": 3,
   "id": "84fc0e04-592e-4a2c-a79f-71aedea5e858",
   "metadata": {
    "tags": []
   },
   "outputs": [],
   "source": [
    "# Assign a small array to variable a\n",
    "a = np.array( [ [1,1,2],[3,5,8] ] )"
   ]
  },
  {
   "cell_type": "code",
   "execution_count": null,
   "id": "f8564779-3447-4be1-8d79-36cf730e955a",
   "metadata": {},
   "outputs": [],
   "source": [
    "# Run cell with the variable to show value\n",
    "a"
   ]
  },
  {
   "cell_type": "code",
   "execution_count": 4,
   "id": "875b3929-fa2e-45fb-98a3-ba1462684685",
   "metadata": {
    "tags": []
   },
   "outputs": [
    {
     "name": "stdout",
     "output_type": "stream",
     "text": [
      "[[1 1 2]\n",
      " [3 5 8]]\n"
     ]
    }
   ],
   "source": [
    "# Use 'print' to show the value\n",
    "print(a)"
   ]
  },
  {
   "cell_type": "markdown",
   "id": "3a042d8d-9205-42f2-93c6-e2ce78ae6355",
   "metadata": {
    "tags": []
   },
   "source": [
    "## Objects\n",
    "\n",
    "**object**: bubdle of *properties* and *actions* about something specific. \n",
    "\n",
    "Example: \n",
    "    Object: data frame\n",
    "    Properties: number of rows, names of columns, date created\n",
    "    Actions: selecting a specific row, adding a new column\n",
    "\n",
    "A variable is the name we give a specific object, and the same object can be referenced by different variables.\n",
    "In practice, we can often  variable  and object interchangeably."
   ]
  }
 ],
 "metadata": {
  "kernelspec": {
   "display_name": "EDS220",
   "language": "python",
   "name": "eds220-env"
  },
  "language_info": {
   "codemirror_mode": {
    "name": "ipython",
    "version": 3
   },
   "file_extension": ".py",
   "mimetype": "text/x-python",
   "name": "python",
   "nbconvert_exporter": "python",
   "pygments_lexer": "ipython3",
   "version": "3.11.4"
  }
 },
 "nbformat": 4,
 "nbformat_minor": 5
}
