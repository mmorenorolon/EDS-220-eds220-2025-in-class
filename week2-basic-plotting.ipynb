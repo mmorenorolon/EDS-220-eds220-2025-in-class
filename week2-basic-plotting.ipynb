{
 "cells": [
  {
   "cell_type": "markdown",
   "id": "63681b10-7d67-4cd2-a332-a6bfc1262065",
   "metadata": {},
   "source": [
    "# `plot()` method"
   ]
  },
  {
   "cell_type": "code",
   "execution_count": 2,
   "id": "8fb2e776-da5f-4afd-8d4a-6300b2a04c69",
   "metadata": {
    "tags": []
   },
   "outputs": [
    {
     "data": {
      "text/html": [
       "<div>\n",
       "<style scoped>\n",
       "    .dataframe tbody tr th:only-of-type {\n",
       "        vertical-align: middle;\n",
       "    }\n",
       "\n",
       "    .dataframe tbody tr th {\n",
       "        vertical-align: top;\n",
       "    }\n",
       "\n",
       "    .dataframe thead th {\n",
       "        text-align: right;\n",
       "    }\n",
       "</style>\n",
       "<table border=\"1\" class=\"dataframe\">\n",
       "  <thead>\n",
       "    <tr style=\"text-align: right;\">\n",
       "      <th></th>\n",
       "      <th>year</th>\n",
       "      <th>CSM_winter</th>\n",
       "      <th>CSM_spring</th>\n",
       "      <th>CSM_fall</th>\n",
       "      <th>MUL_winter</th>\n",
       "      <th>MUL_spring</th>\n",
       "      <th>MUL_fall</th>\n",
       "      <th>SDW_winter</th>\n",
       "      <th>SDW_spring</th>\n",
       "      <th>SDW_fall</th>\n",
       "      <th>TJE_winter</th>\n",
       "      <th>TJE_spring</th>\n",
       "      <th>TJE_fall</th>\n",
       "    </tr>\n",
       "  </thead>\n",
       "  <tbody>\n",
       "    <tr>\n",
       "      <th>0</th>\n",
       "      <td>2010</td>\n",
       "      <td>39.0</td>\n",
       "      <td>40.0</td>\n",
       "      <td>50.0</td>\n",
       "      <td>45.0</td>\n",
       "      <td>NaN</td>\n",
       "      <td>61.0</td>\n",
       "      <td>NaN</td>\n",
       "      <td>75.0</td>\n",
       "      <td>85.0</td>\n",
       "      <td>NaN</td>\n",
       "      <td>NaN</td>\n",
       "      <td>81.0</td>\n",
       "    </tr>\n",
       "    <tr>\n",
       "      <th>1</th>\n",
       "      <td>2011</td>\n",
       "      <td>48.0</td>\n",
       "      <td>44.0</td>\n",
       "      <td>NaN</td>\n",
       "      <td>58.0</td>\n",
       "      <td>52.0</td>\n",
       "      <td>NaN</td>\n",
       "      <td>78.0</td>\n",
       "      <td>74.0</td>\n",
       "      <td>NaN</td>\n",
       "      <td>67.0</td>\n",
       "      <td>70.0</td>\n",
       "      <td>NaN</td>\n",
       "    </tr>\n",
       "    <tr>\n",
       "      <th>2</th>\n",
       "      <td>2012</td>\n",
       "      <td>51.0</td>\n",
       "      <td>43.0</td>\n",
       "      <td>49.0</td>\n",
       "      <td>57.0</td>\n",
       "      <td>58.0</td>\n",
       "      <td>53.0</td>\n",
       "      <td>71.0</td>\n",
       "      <td>72.0</td>\n",
       "      <td>73.0</td>\n",
       "      <td>70.0</td>\n",
       "      <td>63.0</td>\n",
       "      <td>69.0</td>\n",
       "    </tr>\n",
       "    <tr>\n",
       "      <th>3</th>\n",
       "      <td>2013</td>\n",
       "      <td>42.0</td>\n",
       "      <td>46.0</td>\n",
       "      <td>38.0</td>\n",
       "      <td>60.0</td>\n",
       "      <td>58.0</td>\n",
       "      <td>62.0</td>\n",
       "      <td>69.0</td>\n",
       "      <td>70.0</td>\n",
       "      <td>70.0</td>\n",
       "      <td>69.0</td>\n",
       "      <td>74.0</td>\n",
       "      <td>64.0</td>\n",
       "    </tr>\n",
       "    <tr>\n",
       "      <th>4</th>\n",
       "      <td>2014</td>\n",
       "      <td>38.0</td>\n",
       "      <td>43.0</td>\n",
       "      <td>45.0</td>\n",
       "      <td>49.0</td>\n",
       "      <td>52.0</td>\n",
       "      <td>57.0</td>\n",
       "      <td>61.0</td>\n",
       "      <td>78.0</td>\n",
       "      <td>71.0</td>\n",
       "      <td>60.0</td>\n",
       "      <td>81.0</td>\n",
       "      <td>62.0</td>\n",
       "    </tr>\n",
       "  </tbody>\n",
       "</table>\n",
       "</div>"
      ],
      "text/plain": [
       "   year  CSM_winter  CSM_spring  CSM_fall  MUL_winter  MUL_spring  MUL_fall  \\\n",
       "0  2010        39.0        40.0      50.0        45.0         NaN      61.0   \n",
       "1  2011        48.0        44.0       NaN        58.0        52.0       NaN   \n",
       "2  2012        51.0        43.0      49.0        57.0        58.0      53.0   \n",
       "3  2013        42.0        46.0      38.0        60.0        58.0      62.0   \n",
       "4  2014        38.0        43.0      45.0        49.0        52.0      57.0   \n",
       "\n",
       "   SDW_winter  SDW_spring  SDW_fall  TJE_winter  TJE_spring  TJE_fall  \n",
       "0         NaN        75.0      85.0         NaN         NaN      81.0  \n",
       "1        78.0        74.0       NaN        67.0        70.0       NaN  \n",
       "2        71.0        72.0      73.0        70.0        63.0      69.0  \n",
       "3        69.0        70.0      70.0        69.0        74.0      64.0  \n",
       "4        61.0        78.0      71.0        60.0        81.0      62.0  "
      ]
     },
     "execution_count": 2,
     "metadata": {},
     "output_type": "execute_result"
    }
   ],
   "source": [
    "import pandas as pd\n",
    "\n",
    "# Read in file\n",
    "df = pd.read_csv('data/wetlands_seasonal_bird_diversity.csv')\n",
    "\n",
    "# Check the first 5 rows\n",
    "df.head()"
   ]
  },
  {
   "cell_type": "code",
   "execution_count": null,
   "id": "aa8e74c9-6a42-45b3-b2ca-c1012818f421",
   "metadata": {},
   "outputs": [],
   "source": [
    "# Default plot(): one line plot per column with numeric data\n",
    "df.plot()"
   ]
  },
  {
   "cell_type": "code",
   "execution_count": 1,
   "id": "896b0773-b44b-4cc5-845e-45ea1062d59b",
   "metadata": {
    "tags": []
   },
   "outputs": [
    {
     "ename": "NameError",
     "evalue": "name 'df' is not defined",
     "output_type": "error",
     "traceback": [
      "\u001b[0;31m---------------------------------------------------------------------------\u001b[0m",
      "\u001b[0;31mNameError\u001b[0m                                 Traceback (most recent call last)",
      "Cell \u001b[0;32mIn[1], line 1\u001b[0m\n\u001b[0;32m----> 1\u001b[0m \u001b[43mdf\u001b[49m\u001b[38;5;241m.\u001b[39mplot(x\u001b[38;5;241m=\u001b[39m\u001b[38;5;124m'\u001b[39m\u001b[38;5;124mx_values_column\u001b[39m\u001b[38;5;124m'\u001b[39m, y\u001b[38;5;241m=\u001b[39m\u001b[38;5;124m'\u001b[39m\u001b[38;5;124my_values_column\u001b[39m\u001b[38;5;124m'\u001b[39m)\n",
      "\u001b[0;31mNameError\u001b[0m: name 'df' is not defined"
     ]
    }
   ],
   "source": [
    "df.plot(x='x_values_column', y='y_values_column')"
   ]
  },
  {
   "cell_type": "code",
   "execution_count": null,
   "id": "ca0ff684-fd4d-4b5e-a5b4-8a5d1435a35a",
   "metadata": {},
   "outputs": [],
   "source": [
    "# Birds species registered during winter at CSM yearly\n",
    "df.plot(x='year', y='CSM_winter')"
   ]
  },
  {
   "cell_type": "code",
   "execution_count": null,
   "id": "256be0b6-5af5-49d1-bdd1-5195819c4cc3",
   "metadata": {},
   "outputs": [],
   "source": [
    "df.plot(x='year', \n",
    "        y='CSM_winter',\n",
    "        title='Bird species registered during winter at Carpinteria Salt Marsh',\n",
    "        xlabel='Year',\n",
    "        ylabel='Number of bird species',\n",
    "        color='green',\n",
    "        legend=False\n",
    "        )"
   ]
  },
  {
   "cell_type": "markdown",
   "id": "05300c25-86dc-4e09-8a3e-a92c30fbbddf",
   "metadata": {},
   "source": [
    "# Check #1: \n",
    "- Plot a graph of the spring bird surveys at Mugu Lagoon with respect to the years. Include some basic customization.\n",
    "- Use the isna() method for pandas.Series and row selection to select the rows in which Mugu Lagoon has NAs during the spring survey."
   ]
  },
  {
   "cell_type": "code",
   "execution_count": 3,
   "id": "58a56d97-4c07-41c6-9696-0f22e11dd7df",
   "metadata": {
    "tags": []
   },
   "outputs": [
    {
     "data": {
      "text/plain": [
       "<Axes: title={'center': 'Bird species registered during winter at Mugu Lagoon'}, xlabel='Year', ylabel='Number of bird species'>"
      ]
     },
     "execution_count": 3,
     "metadata": {},
     "output_type": "execute_result"
    },
    {
     "data": {
      "image/png": "[encoded data removed]",
      "text/plain": [
       "<Figure size 640x480 with 1 Axes>"
      ]
     },
     "metadata": {},
     "output_type": "display_data"
    }
   ],
   "source": [
    "df.plot(x='year', \n",
    "        y='MUL_winter',\n",
    "        title='Bird species registered during winter at Mugu Lagoon',\n",
    "        xlabel='Year',\n",
    "        ylabel='Number of bird species',\n",
    "        color='purple',\n",
    "        legend=False\n",
    "        )"
   ]
  },
  {
   "cell_type": "code",
   "execution_count": 4,
   "id": "3032cb0a-cc2b-46b6-bd4a-e88fa0add964",
   "metadata": {
    "tags": []
   },
   "outputs": [
    {
     "data": {
      "text/plain": [
       "0      True\n",
       "1     False\n",
       "2     False\n",
       "3     False\n",
       "4     False\n",
       "5     False\n",
       "6     False\n",
       "7     False\n",
       "8     False\n",
       "9     False\n",
       "10     True\n",
       "11    False\n",
       "12    False\n",
       "13    False\n",
       "Name: MUL_spring, dtype: bool"
      ]
     },
     "execution_count": 4,
     "metadata": {},
     "output_type": "execute_result"
    }
   ],
   "source": [
    "df['MUL_spring'].isna()"
   ]
  },
  {
   "cell_type": "markdown",
   "id": "d3f64d6a-09d8-4b7e-9d0c-9b70e21ec9bf",
   "metadata": {},
   "source": [
    "# Multiple Line Plots"
   ]
  },
  {
   "cell_type": "code",
   "execution_count": null,
   "id": "afc7af97-3888-4250-8b52-fd186898898b",
   "metadata": {},
   "outputs": [],
   "source": [
    "df.plot(x='year', \n",
    "        y=['TJE_spring', 'TJE_fall'],\n",
    "        title = 'Seasonal bird surveys at Tijuana Estuary',\n",
    "        xlabel='Year',\n",
    "        ylabel='Number of bird species',        \n",
    "        color = {'TJE_spring':'#F48FB1',\n",
    "                 'TJE_fall': '#AB47BC'\n",
    "                 }\n",
    "        )"
   ]
  },
  {
   "cell_type": "code",
   "execution_count": null,
   "id": "26ba8fa6-2d02-404f-9eca-f927ca93b4c1",
   "metadata": {},
   "outputs": [],
   "source": [
    "df.plot(x='year', \n",
    "        y=['TJE_spring', 'TJE_fall'],\n",
    "        title = 'Seasonal bird surveys at Tijuana Estuary',\n",
    "        xlabel='Year',\n",
    "        ylabel='Number of bird species',        \n",
    "        color = {'TJE_spring':'#F48FB1',\n",
    "                 'TJE_fall': '#AB47BC'\n",
    "                 },\n",
    "        subplots=True\n",
    "        )"
   ]
  },
  {
   "cell_type": "markdown",
   "id": "fff8399f-ac02-44cc-a9bf-8f1df7efadbd",
   "metadata": {
    "tags": []
   },
   "source": [
    "# Updating the index"
   ]
  },
  {
   "cell_type": "code",
   "execution_count": null,
   "id": "10c00ca0-5c4f-4960-a3ff-13c186906633",
   "metadata": {},
   "outputs": [],
   "source": [
    "df = df.set_index(new_index)"
   ]
  },
  {
   "cell_type": "code",
   "execution_count": null,
   "id": "2fcb4fba-4507-4040-85ec-6c844387898d",
   "metadata": {},
   "outputs": [],
   "source": [
    "# Set `column_name` column in df as the new index (reassignment)\n",
    "df = df.set_index('column_name')"
   ]
  },
  {
   "cell_type": "code",
   "execution_count": null,
   "id": "4ece7a5d-41de-4c06-a40e-19197892d15c",
   "metadata": {},
   "outputs": [],
   "source": [
    "# Set `column_name` column in df as the new index (modify df in-place)\n",
    "df.set_index('column_name', inplace=True)"
   ]
  },
  {
   "cell_type": "code",
   "execution_count": null,
   "id": "5cec6541-0348-4c68-97f4-7e8a75ee69d2",
   "metadata": {},
   "outputs": [],
   "source": [
    "# Update index to be the year column\n",
    "df = df.set_index('year')\n",
    "df.head()"
   ]
  },
  {
   "cell_type": "code",
   "execution_count": null,
   "id": "995031f3-9870-4124-af0c-bcb87cdc9f5a",
   "metadata": {},
   "outputs": [],
   "source": [
    "# Simple plot of Carpinteria Salt Marsh winter surveys\n",
    "df.plot(y='CSM_winter')"
   ]
  },
  {
   "cell_type": "code",
   "execution_count": null,
   "id": "3fe2431d-aa6d-43c5-a022-7f45ee6404d2",
   "metadata": {},
   "outputs": [],
   "source": [
    "df = df.reset_index()\n",
    "df.head()"
   ]
  },
  {
   "cell_type": "markdown",
   "id": "6b8a32d5-10d0-4d7b-bff3-0866898afdf7",
   "metadata": {},
   "source": [
    "# Checkin 2"
   ]
  },
  {
   "cell_type": "markdown",
   "id": "2b10ee8e-bd6a-460c-8b73-3d94f68f2add",
   "metadata": {},
   "source": [
    "## Without running the code, give a step-by-step breakdown of what this code is doing:\n",
    " - df.set_index('year').loc[:,'SDW_winter':'TJE_fall'].plot()"
   ]
  },
  {
   "cell_type": "markdown",
   "id": "b8b6733a-bd38-48f0-af17-17becaad73dd",
   "metadata": {},
   "source": [
    "1. Call the dataframe `df.`\n",
    "2. Set the index of the dataframe to the 'year' column.\n",
    "3. Access all rows with columns by labels\n",
    "4. Create a plot with all the columns in the subset"
   ]
  },
  {
   "cell_type": "markdown",
   "id": "0b97ebd5-42ee-4869-b9e9-1c8700a144ab",
   "metadata": {},
   "source": [
    "## Is this code modifying the data frame df? Why or why not?"
   ]
  },
  {
   "cell_type": "markdown",
   "id": "868ae795-4629-4c0c-ac6f-e316f3dfdab9",
   "metadata": {},
   "source": [
    "This code is not modifying the oroginal dataframe because the operations were not assigned back into the df. set_index() created a new dataframe, technically."
   ]
  },
  {
   "cell_type": "markdown",
   "id": "28607805-95e6-4774-9027-aadabb412d97",
   "metadata": {},
   "source": [
    "## Run the code and examine the graph. Review the data description. Do we have all the necessary information to make sure it makes sense to directly compare the surveys at these different sites?"
   ]
  },
  {
   "cell_type": "code",
   "execution_count": null,
   "id": "03dc8147-b901-4efd-9e95-b18c1d2e2d4d",
   "metadata": {},
   "outputs": [],
   "source": [
    "no. "
   ]
  },
  {
   "cell_type": "markdown",
   "id": "d63a3af9-07a5-4b03-8359-4f3659fc5cab",
   "metadata": {},
   "source": [
    "# Method Chaining"
   ]
  },
  {
   "cell_type": "code",
   "execution_count": 7,
   "id": "3db7402e-da11-494f-9860-83d854cba2b6",
   "metadata": {
    "tags": []
   },
   "outputs": [
    {
     "data": {
      "text/html": [
       "<div>\n",
       "<style scoped>\n",
       "    .dataframe tbody tr th:only-of-type {\n",
       "        vertical-align: middle;\n",
       "    }\n",
       "\n",
       "    .dataframe tbody tr th {\n",
       "        vertical-align: top;\n",
       "    }\n",
       "\n",
       "    .dataframe thead th {\n",
       "        text-align: right;\n",
       "    }\n",
       "</style>\n",
       "<table border=\"1\" class=\"dataframe\">\n",
       "  <thead>\n",
       "    <tr style=\"text-align: right;\">\n",
       "      <th></th>\n",
       "      <th>species</th>\n",
       "      <th>island</th>\n",
       "      <th>bill_length_mm</th>\n",
       "      <th>bill_depth_mm</th>\n",
       "      <th>flipper_length_mm</th>\n",
       "      <th>body_mass_g</th>\n",
       "      <th>sex</th>\n",
       "      <th>year</th>\n",
       "    </tr>\n",
       "  </thead>\n",
       "  <tbody>\n",
       "    <tr>\n",
       "      <th>0</th>\n",
       "      <td>Adelie</td>\n",
       "      <td>Torgersen</td>\n",
       "      <td>39.1</td>\n",
       "      <td>18.7</td>\n",
       "      <td>181.0</td>\n",
       "      <td>3750.0</td>\n",
       "      <td>male</td>\n",
       "      <td>2007</td>\n",
       "    </tr>\n",
       "    <tr>\n",
       "      <th>1</th>\n",
       "      <td>Adelie</td>\n",
       "      <td>Torgersen</td>\n",
       "      <td>39.5</td>\n",
       "      <td>17.4</td>\n",
       "      <td>186.0</td>\n",
       "      <td>3800.0</td>\n",
       "      <td>female</td>\n",
       "      <td>2007</td>\n",
       "    </tr>\n",
       "    <tr>\n",
       "      <th>2</th>\n",
       "      <td>Adelie</td>\n",
       "      <td>Torgersen</td>\n",
       "      <td>40.3</td>\n",
       "      <td>18.0</td>\n",
       "      <td>195.0</td>\n",
       "      <td>3250.0</td>\n",
       "      <td>female</td>\n",
       "      <td>2007</td>\n",
       "    </tr>\n",
       "    <tr>\n",
       "      <th>3</th>\n",
       "      <td>Adelie</td>\n",
       "      <td>Torgersen</td>\n",
       "      <td>NaN</td>\n",
       "      <td>NaN</td>\n",
       "      <td>NaN</td>\n",
       "      <td>NaN</td>\n",
       "      <td>NaN</td>\n",
       "      <td>2007</td>\n",
       "    </tr>\n",
       "    <tr>\n",
       "      <th>4</th>\n",
       "      <td>Adelie</td>\n",
       "      <td>Torgersen</td>\n",
       "      <td>36.7</td>\n",
       "      <td>19.3</td>\n",
       "      <td>193.0</td>\n",
       "      <td>3450.0</td>\n",
       "      <td>female</td>\n",
       "      <td>2007</td>\n",
       "    </tr>\n",
       "  </tbody>\n",
       "</table>\n",
       "</div>"
      ],
      "text/plain": [
       "  species     island  bill_length_mm  bill_depth_mm  flipper_length_mm  \\\n",
       "0  Adelie  Torgersen            39.1           18.7              181.0   \n",
       "1  Adelie  Torgersen            39.5           17.4              186.0   \n",
       "2  Adelie  Torgersen            40.3           18.0              195.0   \n",
       "3  Adelie  Torgersen             NaN            NaN                NaN   \n",
       "4  Adelie  Torgersen            36.7           19.3              193.0   \n",
       "\n",
       "   body_mass_g     sex  year  \n",
       "0       3750.0    male  2007  \n",
       "1       3800.0  female  2007  \n",
       "2       3250.0  female  2007  \n",
       "3          NaN     NaN  2007  \n",
       "4       3450.0  female  2007  "
      ]
     },
     "execution_count": 7,
     "metadata": {},
     "output_type": "execute_result"
    }
   ],
   "source": [
    "# Read in data\n",
    "URL = 'https://raw.githubusercontent.com/allisonhorst/palmerpenguins/main/inst/extdata/penguins.csv'\n",
    "penguins = pd.read_csv(URL)\n",
    "\n",
    "penguins.head()"
   ]
  },
  {
   "cell_type": "code",
   "execution_count": null,
   "id": "b84332ef-d986-44b8-b491-6362939c6d11",
   "metadata": {},
   "outputs": [],
   "source": []
  },
  {
   "cell_type": "markdown",
   "id": "4d7ed6a2-fd3c-461f-98d6-ce85e5dc9ead",
   "metadata": {},
   "source": [
    "## Check-in 3"
   ]
  },
  {
   "cell_type": "markdown",
   "id": "23f245e9-5ba0-4b66-a2d9-e5fba126accf",
   "metadata": {
    "tags": []
   },
   "source": [
    "### Select the bill_length_mm and bill_depth_mm columns in the penguins dataframe and then update the kind parameter to box to make boxplots of the bill length and bill depth."
   ]
  },
  {
   "cell_type": "code",
   "execution_count": 9,
   "id": "57d7219e-eedb-481a-8133-72a94e5a8abd",
   "metadata": {
    "tags": []
   },
   "outputs": [
    {
     "data": {
      "text/plain": [
       "<Axes: title={'center': 'Penguin bill lengths'}, xlabel='Bill length (mm)'>"
      ]
     },
     "execution_count": 9,
     "metadata": {},
     "output_type": "execute_result"
    },
    {
     "data": {
      "image/png": "[encoded data removed]",
      "text/plain": [
       "<Figure size 640x480 with 1 Axes>"
      ]
     },
     "metadata": {},
     "output_type": "display_data"
    }
   ],
   "source": [
    "penguins['bill_length_mm'].plot(kind='box',\n",
    "                                title='Penguin bill lengths',\n",
    "                                xlabel='Bill length (mm)',\n",
    "                                grid=True)"
   ]
  },
  {
   "cell_type": "code",
   "execution_count": 10,
   "id": "f42fe3a3-6a26-4156-8407-4dc0e736f0a2",
   "metadata": {
    "tags": []
   },
   "outputs": [
    {
     "data": {
      "text/plain": [
       "<Axes: title={'center': 'Penguin bill depths'}, xlabel='Bill length (mm)'>"
      ]
     },
     "execution_count": 10,
     "metadata": {},
     "output_type": "execute_result"
    },
    {
     "data": {
      "image/png": "[encoded data removed]",
      "text/plain": [
       "<Figure size 640x480 with 1 Axes>"
      ]
     },
     "metadata": {},
     "output_type": "display_data"
    }
   ],
   "source": [
    "penguins['bill_depth_mm'].plot(kind='box',\n",
    "                              title = 'Penguin bill depths',\n",
    "                              xlabel='Bill length (mm)',\n",
    "                              grid=True)"
   ]
  },
  {
   "cell_type": "markdown",
   "id": "577ecf07-4407-4e0b-b024-6567d7bf36c5",
   "metadata": {
    "tags": []
   },
   "source": [
    "### Create a simple histogram of the flipper length of female gentoo penguins."
   ]
  },
  {
   "cell_type": "code",
   "execution_count": null,
   "id": "73700c54-649d-47ee-be2a-f4df6ee9ab10",
   "metadata": {},
   "outputs": [],
   "source": []
  }
 ],
 "metadata": {
  "kernelspec": {
   "display_name": "EDS220",
   "language": "python",
   "name": "eds220-env"
  },
  "language_info": {
   "codemirror_mode": {
    "name": "ipython",
    "version": 3
   },
   "file_extension": ".py",
   "mimetype": "text/x-python",
   "name": "python",
   "nbconvert_exporter": "python",
   "pygments_lexer": "ipython3",
   "version": "3.11.4"
  }
 },
 "nbformat": 4,
 "nbformat_minor": 5
}
